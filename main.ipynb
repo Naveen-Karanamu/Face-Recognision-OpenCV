{
 "cells": [
  {
   "cell_type": "markdown",
   "metadata": {},
   "source": [
    "# Face Detection & Face Recognization using OpenCV"
   ]
  },
  {
   "cell_type": "code",
   "execution_count": 19,
   "metadata": {},
   "outputs": [],
   "source": [
    "from imutils import paths #imutils includes opencv functions\n",
    "import face_recognition\n",
    "import pickle\n",
    "import cv2\n",
    "import os"
   ]
  },
  {
   "cell_type": "markdown",
   "metadata": {},
   "source": [
    "pip install https://github.com/jloh02/dlib/releases/download/v19.22/dlib-19.22.99-cp310-cp310-win_amd64.whl "
   ]
  },
  {
   "cell_type": "markdown",
   "metadata": {},
   "source": [
    "* get paths of each file in folder named Images\n",
    "* Images here that contains data(folders of various people)"
   ]
  },
  {
   "cell_type": "code",
   "execution_count": 20,
   "metadata": {},
   "outputs": [],
   "source": [
    "# imagePath = list(paths.list_images('./images/'))\n",
    "imagePath = list(paths.list_images(\"D:\\Local disk(E)\\images\"))\n",
    "kEncodings = []\n",
    "kNames = []"
   ]
  },
  {
   "cell_type": "code",
   "execution_count": 21,
   "metadata": {},
   "outputs": [
    {
     "data": {
      "text/plain": [
       "['D:\\\\Local disk(E)\\\\images\\\\Chris.jpg',\n",
       " 'D:\\\\Local disk(E)\\\\images\\\\Rdj.jpg',\n",
       " 'D:\\\\Local disk(E)\\\\images\\\\Tom.jpg']"
      ]
     },
     "execution_count": 21,
     "metadata": {},
     "output_type": "execute_result"
    }
   ],
   "source": [
    "imagePath"
   ]
  },
  {
   "cell_type": "markdown",
   "metadata": {},
   "source": [
    "* Optimizing the image path"
   ]
  },
  {
   "cell_type": "markdown",
   "metadata": {},
   "source": [
    "i - Index, ip - image path"
   ]
  },
  {
   "cell_type": "code",
   "execution_count": 22,
   "metadata": {},
   "outputs": [
    {
     "name": "stdout",
     "output_type": "stream",
     "text": [
      "0 D:\\Local disk(E)\\images\\Chris.jpg\n",
      "1 D:\\Local disk(E)\\images\\Rdj.jpg\n",
      "2 D:\\Local disk(E)\\images\\Tom.jpg\n"
     ]
    }
   ],
   "source": [
    "name=\"\"\n",
    "image=''\n",
    "for (i, ip) in enumerate(imagePath):\n",
    "    print(i,ip)\n",
    "    # name = ip.split(os.path.sep)[-2]\n",
    "    image = cv2.imread(ip)\n",
    "    rgb = cv2.cvtColor(image, cv2.COLOR_BGR2RGB)"
   ]
  },
  {
   "cell_type": "code",
   "execution_count": 23,
   "metadata": {},
   "outputs": [
    {
     "data": {
      "text/plain": [
       "''"
      ]
     },
     "execution_count": 23,
     "metadata": {},
     "output_type": "execute_result"
    }
   ],
   "source": [
    "name"
   ]
  },
  {
   "cell_type": "markdown",
   "metadata": {},
   "source": [
    "Converting the image into a matrix"
   ]
  },
  {
   "cell_type": "code",
   "execution_count": 24,
   "metadata": {},
   "outputs": [
    {
     "data": {
      "text/plain": [
       "array([[[216, 180, 162],\n",
       "        [216, 180, 162],\n",
       "        [216, 180, 162],\n",
       "        ...,\n",
       "        [220, 188, 183],\n",
       "        [220, 188, 183],\n",
       "        [220, 188, 183]],\n",
       "\n",
       "       [[216, 180, 162],\n",
       "        [216, 180, 162],\n",
       "        [216, 180, 162],\n",
       "        ...,\n",
       "        [220, 188, 183],\n",
       "        [220, 188, 183],\n",
       "        [220, 188, 183]],\n",
       "\n",
       "       [[218, 180, 162],\n",
       "        [218, 180, 162],\n",
       "        [218, 180, 162],\n",
       "        ...,\n",
       "        [220, 188, 183],\n",
       "        [220, 188, 183],\n",
       "        [220, 188, 183]],\n",
       "\n",
       "       ...,\n",
       "\n",
       "       [[ 91,  54,  50],\n",
       "        [ 92,  55,  51],\n",
       "        [ 92,  55,  51],\n",
       "        ...,\n",
       "        [ 72,  40,  27],\n",
       "        [ 70,  38,  25],\n",
       "        [ 71,  39,  26]],\n",
       "\n",
       "       [[ 90,  54,  48],\n",
       "        [ 90,  54,  48],\n",
       "        [ 90,  54,  46],\n",
       "        ...,\n",
       "        [ 70,  38,  27],\n",
       "        [ 68,  36,  25],\n",
       "        [ 69,  37,  26]],\n",
       "\n",
       "       [[ 89,  53,  45],\n",
       "        [ 89,  53,  45],\n",
       "        [ 89,  54,  44],\n",
       "        ...,\n",
       "        [ 68,  36,  25],\n",
       "        [ 66,  34,  23],\n",
       "        [ 67,  35,  24]]], dtype=uint8)"
      ]
     },
     "execution_count": 24,
     "metadata": {},
     "output_type": "execute_result"
    }
   ],
   "source": [
    "cv2.imread(ip)"
   ]
  },
  {
   "cell_type": "markdown",
   "metadata": {},
   "source": [
    "Converting the matrix into the image"
   ]
  },
  {
   "cell_type": "code",
   "execution_count": 25,
   "metadata": {},
   "outputs": [],
   "source": [
    "cv2.imshow('', image) "
   ]
  },
  {
   "cell_type": "markdown",
   "metadata": {},
   "source": [
    "Altering the RGB of the image"
   ]
  },
  {
   "cell_type": "code",
   "execution_count": 26,
   "metadata": {},
   "outputs": [],
   "source": [
    "cv2.imshow('', rgb) "
   ]
  },
  {
   "cell_type": "code",
   "execution_count": 27,
   "metadata": {},
   "outputs": [],
   "source": [
    "# loop over the image paths\n",
    "for (i, ip) in enumerate(imagePath):\n",
    "    # extract the person name from the image path\n",
    "    name = ip.split(os.path.sep)[-2]\n",
    "    # load the input image and convert it from BGR (matrix)\n",
    "    image = cv2.imread(ip)\n",
    "    rgb = cv2.cvtColor(image, cv2.COLOR_BGR2RGB)"
   ]
  }
 ],
 "metadata": {
  "kernelspec": {
   "display_name": "Python 3.10.6 64-bit (microsoft store)",
   "language": "python",
   "name": "python3"
  },
  "language_info": {
   "codemirror_mode": {
    "name": "ipython",
    "version": 3
   },
   "file_extension": ".py",
   "mimetype": "text/x-python",
   "name": "python",
   "nbconvert_exporter": "python",
   "pygments_lexer": "ipython3",
   "version": "3.10.6"
  },
  "orig_nbformat": 4,
  "vscode": {
   "interpreter": {
    "hash": "a08f583acb35847448b52a9eb69292a61cb88f49696fc3f852078c09d98ba127"
   }
  }
 },
 "nbformat": 4,
 "nbformat_minor": 2
}
