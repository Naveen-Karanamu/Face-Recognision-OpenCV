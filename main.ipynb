{
 "cells": [
  {
   "cell_type": "markdown",
   "metadata": {},
   "source": [
    "# Face Detection & Face Recognization using OpenCV"
   ]
  },
  {
   "cell_type": "code",
   "execution_count": 1,
   "metadata": {},
   "outputs": [],
   "source": [
    "from imutils import paths #imutils includes opencv functions\n",
    "import face_recognition\n",
    "import pickle\n",
    "import cv2\n",
    "import os"
   ]
  },
  {
   "cell_type": "markdown",
   "metadata": {},
   "source": [
    "pip install https://github.com/jloh02/dlib/releases/download/v19.22/dlib-19.22.99-cp310-cp310-win_amd64.whl "
   ]
  },
  {
   "cell_type": "markdown",
   "metadata": {},
   "source": [
    "* get paths of each file in folder named Images\n",
    "* Images here that contains data(folders of various people)"
   ]
  },
  {
   "cell_type": "code",
   "execution_count": 2,
   "metadata": {},
   "outputs": [],
   "source": [
    "# imagePath = list(paths.list_images('./images/'))\n",
    "imagePath = list(paths.list_images(\"D:\\Local disk(E)\\images\"))\n",
    "kEncodings = []\n",
    "kNames = []"
   ]
  },
  {
   "cell_type": "code",
   "execution_count": 3,
   "metadata": {},
   "outputs": [
    {
     "data": {
      "text/plain": [
       "['D:\\\\Local disk(E)\\\\images\\\\Chris.jpg',\n",
       " 'D:\\\\Local disk(E)\\\\images\\\\Rdj.jpg',\n",
       " 'D:\\\\Local disk(E)\\\\images\\\\Tom.jpg']"
      ]
     },
     "execution_count": 3,
     "metadata": {},
     "output_type": "execute_result"
    }
   ],
   "source": [
    "imagePath"
   ]
  },
  {
   "cell_type": "markdown",
   "metadata": {},
   "source": [
    "* Optimizing the image path"
   ]
  },
  {
   "cell_type": "markdown",
   "metadata": {},
   "source": [
    "i - Index, ip - image path"
   ]
  },
  {
   "cell_type": "code",
   "execution_count": 4,
   "metadata": {},
   "outputs": [
    {
     "name": "stdout",
     "output_type": "stream",
     "text": [
      "0 D:\\Local disk(E)\\images\\Chris.jpg\n",
      "1 D:\\Local disk(E)\\images\\Rdj.jpg\n",
      "2 D:\\Local disk(E)\\images\\Tom.jpg\n"
     ]
    }
   ],
   "source": [
    "name=\"\"\n",
    "image=''\n",
    "for (i, ip) in enumerate(imagePath):\n",
    "    print(i,ip)\n",
    "    # name = ip.split(os.path.sep)[-2]\n",
    "    image = cv2.imread(ip)\n",
    "    rgb = cv2.cvtColor(image, cv2.COLOR_BGR2RGB)"
   ]
  },
  {
   "cell_type": "code",
   "execution_count": 5,
   "metadata": {},
   "outputs": [
    {
     "data": {
      "text/plain": [
       "''"
      ]
     },
     "execution_count": 5,
     "metadata": {},
     "output_type": "execute_result"
    }
   ],
   "source": [
    "name"
   ]
  },
  {
   "cell_type": "markdown",
   "metadata": {},
   "source": [
    "Converting the image into a matrix"
   ]
  },
  {
   "cell_type": "code",
   "execution_count": 6,
   "metadata": {},
   "outputs": [
    {
     "data": {
      "text/plain": [
       "array([[[216, 180, 162],\n",
       "        [216, 180, 162],\n",
       "        [216, 180, 162],\n",
       "        ...,\n",
       "        [220, 188, 183],\n",
       "        [220, 188, 183],\n",
       "        [220, 188, 183]],\n",
       "\n",
       "       [[216, 180, 162],\n",
       "        [216, 180, 162],\n",
       "        [216, 180, 162],\n",
       "        ...,\n",
       "        [220, 188, 183],\n",
       "        [220, 188, 183],\n",
       "        [220, 188, 183]],\n",
       "\n",
       "       [[218, 180, 162],\n",
       "        [218, 180, 162],\n",
       "        [218, 180, 162],\n",
       "        ...,\n",
       "        [220, 188, 183],\n",
       "        [220, 188, 183],\n",
       "        [220, 188, 183]],\n",
       "\n",
       "       ...,\n",
       "\n",
       "       [[ 91,  54,  50],\n",
       "        [ 92,  55,  51],\n",
       "        [ 92,  55,  51],\n",
       "        ...,\n",
       "        [ 72,  40,  27],\n",
       "        [ 70,  38,  25],\n",
       "        [ 71,  39,  26]],\n",
       "\n",
       "       [[ 90,  54,  48],\n",
       "        [ 90,  54,  48],\n",
       "        [ 90,  54,  46],\n",
       "        ...,\n",
       "        [ 70,  38,  27],\n",
       "        [ 68,  36,  25],\n",
       "        [ 69,  37,  26]],\n",
       "\n",
       "       [[ 89,  53,  45],\n",
       "        [ 89,  53,  45],\n",
       "        [ 89,  54,  44],\n",
       "        ...,\n",
       "        [ 68,  36,  25],\n",
       "        [ 66,  34,  23],\n",
       "        [ 67,  35,  24]]], dtype=uint8)"
      ]
     },
     "execution_count": 6,
     "metadata": {},
     "output_type": "execute_result"
    }
   ],
   "source": [
    "cv2.imread(ip)"
   ]
  },
  {
   "cell_type": "markdown",
   "metadata": {},
   "source": [
    "Converting the matrix into the image"
   ]
  },
  {
   "cell_type": "code",
   "execution_count": 7,
   "metadata": {},
   "outputs": [],
   "source": [
    "# cv2.imshow('', image) "
   ]
  },
  {
   "cell_type": "markdown",
   "metadata": {},
   "source": [
    "Altering the RGB of the image"
   ]
  },
  {
   "cell_type": "code",
   "execution_count": 8,
   "metadata": {},
   "outputs": [],
   "source": [
    "# cv2.imshow('', rgb) "
   ]
  },
  {
   "cell_type": "code",
   "execution_count": 9,
   "metadata": {},
   "outputs": [],
   "source": [
    "# loop over the image paths\n",
    "for (i, ip) in enumerate(imagePath):\n",
    "    # extract the person name from the image path\n",
    "    name = ip.split(os.path.sep)[-2]\n",
    "    # load the input image and convert it from BGR (matrix)\n",
    "    image = cv2.imread(ip)\n",
    "    rgb = cv2.cvtColor(image, cv2.COLOR_BGR2RGB)"
   ]
  },
  {
   "cell_type": "markdown",
   "metadata": {},
   "source": [
    "* Face Detection"
   ]
  },
  {
   "cell_type": "code",
   "execution_count": 10,
   "metadata": {},
   "outputs": [],
   "source": [
    "# gives the coordinates of the box where the face is detected\n",
    "boxes = face_recognition.face_locations(rgb,model='hog')\n",
    "# compute the facial embedding for the any face\n",
    "# Contains a universal encoding of my facial features that can be compared to any other picture of a face \n",
    "encodings = face_recognition.face_encodings(rgb, boxes)\n",
    "# loop over the encodings\n",
    "for encoding in encodings:\n",
    "    kEncodings.append(encoding)\n",
    "    kNames.append(name)"
   ]
  },
  {
   "cell_type": "markdown",
   "metadata": {},
   "source": [
    "* File managing & Saving the model\n"
   ]
  },
  {
   "cell_type": "code",
   "execution_count": 11,
   "metadata": {},
   "outputs": [],
   "source": [
    "#save emcodings along with their names in dictionary data\n",
    "data = {\"encodings\": kEncodings, \"names\": kNames}\n",
    "#use pickle to save data into a file for later use\n",
    "f = open(\"face_enc\", \"wb\")\n",
    "f.write(pickle.dumps(data))#to open file in write mode\n",
    "f.close()#to close file"
   ]
  },
  {
   "cell_type": "markdown",
   "metadata": {},
   "source": [
    "# Local Face Recognisation without Dataset - Optimized Code"
   ]
  },
  {
   "cell_type": "markdown",
   "metadata": {},
   "source": [
    "* Importing the libraries"
   ]
  },
  {
   "cell_type": "code",
   "execution_count": 12,
   "metadata": {},
   "outputs": [],
   "source": [
    "import face_recognition   ##Detecting and recogniting faces\n",
    "import cv2     ## intracting with images\n",
    "import os       ## For Reading the file name\n"
   ]
  },
  {
   "cell_type": "markdown",
   "metadata": {},
   "source": [
    "* Reading & Optimizing the Image"
   ]
  },
  {
   "cell_type": "code",
   "execution_count": 13,
   "metadata": {},
   "outputs": [],
   "source": [
    "def read_img(path):\n",
    "   img = cv2.imread(path) ## reading image\n",
    "   (h,w) = img.shape[:2]  ## fetching height and width\n",
    "   width = 500            ## hard coding width\n",
    "   ratio = width / float(w) ## preparing a ration for height\n",
    "   height = int(h * ratio)  ## generating new height\n",
    "   return cv2.resize(img,(width,height))"
   ]
  },
  {
   "cell_type": "markdown",
   "metadata": {},
   "source": [
    "* Encoding"
   ]
  },
  {
   "cell_type": "code",
   "execution_count": 14,
   "metadata": {},
   "outputs": [
    {
     "name": "stdout",
     "output_type": "stream",
     "text": [
      "['Chris', 'Rdj', 'Tom']\n"
     ]
    }
   ],
   "source": [
    "known_encodings = [] \n",
    "known_names = []\n",
    "known_dir = 'D:\\Local disk(E)\\images' ##Known directory path\n",
    "for file in os.listdir(known_dir):\n",
    "  img = read_img(known_dir + '/' + file) ##Reading all the images\n",
    "  img_enc = face_recognition.face_encodings(img)[0] ##face encodings\n",
    "  known_encodings.append(img_enc) \n",
    "  known_names.append(file.split('.')[0])\n",
    "print(known_names) ## Printing"
   ]
  },
  {
   "cell_type": "markdown",
   "metadata": {},
   "source": [
    "* Face Recognization"
   ]
  },
  {
   "cell_type": "code",
   "execution_count": 23,
   "metadata": {},
   "outputs": [
    {
     "name": "stdout",
     "output_type": "stream",
     "text": [
      "Processing rdj-test.jpg\n",
      "[False, True, False]\n",
      "[0.72426258 0.51751406 0.88220491]\n",
      "Rdj\n"
     ]
    }
   ],
   "source": [
    "unknown_dir = r\"D:\\Local disk(E)\\unknown\" ##UNknown Images Directory\n",
    "for file in os.listdir(unknown_dir):\n",
    "  print(\"Processing\",file)\n",
    "  img = read_img(unknown_dir + '/' + file)##reading images\n",
    "  img_enc = face_recognition.face_encodings(img)[0]##Encodings\n",
    "  results = face_recognition.compare_faces(known_encodings,img_enc)\n",
    "  print(results)\n",
    "  ##Comparing Known Encodings with Unknown encoding\n",
    "  print(face_recognition.face_distance(known_encodings,img_enc))\n",
    "  # ## Printing Face Distances\n",
    "  res = [i for i,val in enumerate(results) if val]\n",
    "  name = known_names[res[0]]\n",
    "  print(name)\n",
    "  \n",
    "  # '''\n",
    "  # Drawing a rectangle box around the faces of unknown images using  face_locations function in library\n",
    "  # '''\n",
    "  (top,right,bottom,left) = face_recognition.face_locations(img)[0]\n",
    "  cv2.rectangle(img,(left,top),(right,bottom),(255,255,100),2)\n",
    "  # ##Drawing Rectangle\n",
    "  cv2.putText(img,name,(left+2,bottom+20),cv2.FONT_HERSHEY_PLAIN,3, (100,0,255),2) ##Putting labels(names) on the rectangle\n",
    "  # cv2.imshow(img) ##showing images\n"
   ]
  }
 ],
 "metadata": {
  "kernelspec": {
   "display_name": "Python 3.10.6 64-bit (microsoft store)",
   "language": "python",
   "name": "python3"
  },
  "language_info": {
   "codemirror_mode": {
    "name": "ipython",
    "version": 3
   },
   "file_extension": ".py",
   "mimetype": "text/x-python",
   "name": "python",
   "nbconvert_exporter": "python",
   "pygments_lexer": "ipython3",
   "version": "3.10.6"
  },
  "orig_nbformat": 4,
  "vscode": {
   "interpreter": {
    "hash": "a08f583acb35847448b52a9eb69292a61cb88f49696fc3f852078c09d98ba127"
   }
  }
 },
 "nbformat": 4,
 "nbformat_minor": 2
}
